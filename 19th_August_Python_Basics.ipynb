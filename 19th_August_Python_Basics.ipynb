{
 "cells": [
  {
   "cell_type": "markdown",
   "id": "7bdea028-ea59-476a-8d98-1a96767b3d8d",
   "metadata": {},
   "source": [
    "TOPIC: Python Basics Variable\n"
   ]
  },
  {
   "cell_type": "code",
   "execution_count": 1,
   "id": "e4b27357-5b97-48a1-a7d4-42cd962cd2ae",
   "metadata": {},
   "outputs": [
    {
     "name": "stdout",
     "output_type": "stream",
     "text": [
      "8\n",
      "6\n"
     ]
    }
   ],
   "source": [
    "''' Declare two variables, x and y, and assign them integer values. Swap the values of these variables without using any temporary variable.'''\n",
    "x=6\n",
    "y=8\n",
    "x,y=y,x\n",
    "print(x)\n",
    "print(y)"
   ]
  },
  {
   "cell_type": "code",
   "execution_count": 2,
   "id": "6c065992-4da8-4a26-a289-eb58394368f0",
   "metadata": {},
   "outputs": [
    {
     "name": "stdout",
     "output_type": "stream",
     "text": [
      "2400\n"
     ]
    }
   ],
   "source": [
    "'''Create a program that calculates the area of a rectangle. Take the\n",
    "length and width as inputs from the user and store them in variables.\n",
    "Calculate and display the area.'''\n",
    "Length = 40\n",
    "Width=60\n",
    "Area= Length*Width\n",
    "print(Area)"
   ]
  },
  {
   "cell_type": "code",
   "execution_count": 3,
   "id": "5fe63275-9646-4a2e-bde6-84edc942fcbe",
   "metadata": {},
   "outputs": [
    {
     "name": "stdout",
     "output_type": "stream",
     "text": [
      "104.0\n"
     ]
    }
   ],
   "source": [
    "'''Write a Python program that converts temperature from Celsius to\n",
    "Fahrenheit. Take the temperature in Celsius as input, store it in a\n",
    "variable, convert it to Fahrenheit, and display the result.'''\n",
    "Celsius =40\n",
    "Fahrenheit= (Celsius*9/5)+32\n",
    "print(Fahrenheit)"
   ]
  },
  {
   "cell_type": "markdown",
   "id": "78941174-aac0-4935-8ad4-20ce0c775a5b",
   "metadata": {},
   "source": [
    "TOPIC: String Based Questions"
   ]
  },
  {
   "cell_type": "code",
   "execution_count": 4,
   "id": "f2e90b80-c9bc-419f-993f-adcc13d66414",
   "metadata": {},
   "outputs": [
    {
     "name": "stdout",
     "output_type": "stream",
     "text": [
      "14\n"
     ]
    }
   ],
   "source": [
    "#1. Write a Python program that takes a string as input and prints the length of the string.\n",
    "Name='MareddyVenkata'\n",
    "print(len(Name))\n"
   ]
  },
  {
   "cell_type": "code",
   "execution_count": 13,
   "id": "d077fba8-4bde-418c-8633-87ce61000f5d",
   "metadata": {},
   "outputs": [
    {
     "name": "stdout",
     "output_type": "stream",
     "text": [
      "['i', 'i', 'i', 'o', 'a', 'i', 'a', 'i', 'e', 'a', 'i', 'e']\n",
      "12\n"
     ]
    }
   ],
   "source": [
    "#. Create a program that takes a sentence from the user and counts the number of vowels (a, e, i, o, u) in the string.\n",
    "\n",
    "import re\n",
    "\n",
    "string='This is first python basics assignment pratice'\n",
    "string_list=re.findall(\"a|e|i|o|u\", string)\n",
    "print(string_list)\n",
    "print(len(string_list))"
   ]
  },
  {
   "cell_type": "code",
   "execution_count": 15,
   "id": "07db43e1-6402-449e-9ab8-d63e6ff0a9dd",
   "metadata": {},
   "outputs": [
    {
     "name": "stdout",
     "output_type": "stream",
     "text": [
      "orp ecneicsataD\n"
     ]
    }
   ],
   "source": [
    "## Given a string, reverse the order of characters using string slicing and print the reversed string.\n",
    "string='Datascience pro'\n",
    "x=string[::-1]\n",
    "print(x)\n"
   ]
  },
  {
   "cell_type": "code",
   "execution_count": 17,
   "id": "fe2e058a-7187-4eeb-8823-a6c576fe109f",
   "metadata": {},
   "outputs": [
    {
     "name": "stdin",
     "output_type": "stream",
     "text": [
      "please enter your own text help\n"
     ]
    },
    {
     "name": "stdout",
     "output_type": "stream",
     "text": [
      "this is not\n"
     ]
    }
   ],
   "source": [
    "# Write a program that takes a string as input and checks if it is a palindrome (reads the same forwards and backwards).\n",
    "\n",
    "st=input('please enter your own text')\n",
    "if(st==st[::-1]):\n",
    "    print('This is palindrome string')\n",
    "else:\n",
    "    print('this is not')\n"
   ]
  },
  {
   "cell_type": "code",
   "execution_count": 35,
   "id": "25fe80b5-76fe-43ae-8e7c-de194132ba06",
   "metadata": {},
   "outputs": [
    {
     "name": "stdin",
     "output_type": "stream",
     "text": [
      "Please enter the string: This is first data science assignment\n"
     ]
    },
    {
     "name": "stdout",
     "output_type": "stream",
     "text": [
      "Thisisfirstdatascienceassignment\n"
     ]
    }
   ],
   "source": [
    "# Create a program that takes a string as input and removes all the spaces from it. Print the modified string without spaces.\n",
    "string=input('Please enter the string:')\n",
    "print(string.replace(' ',\"\"))"
   ]
  },
  {
   "cell_type": "code",
   "execution_count": null,
   "id": "52b0df71-6e22-4b32-a1af-79b9a1099a96",
   "metadata": {},
   "outputs": [],
   "source": []
  }
 ],
 "metadata": {
  "kernelspec": {
   "display_name": "Python 3 (ipykernel)",
   "language": "python",
   "name": "python3"
  },
  "language_info": {
   "codemirror_mode": {
    "name": "ipython",
    "version": 3
   },
   "file_extension": ".py",
   "mimetype": "text/x-python",
   "name": "python",
   "nbconvert_exporter": "python",
   "pygments_lexer": "ipython3",
   "version": "3.10.8"
  }
 },
 "nbformat": 4,
 "nbformat_minor": 5
}
